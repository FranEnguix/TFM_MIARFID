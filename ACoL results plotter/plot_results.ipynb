{
 "cells": [
  {
   "cell_type": "code",
   "execution_count": 1,
   "metadata": {},
   "outputs": [],
   "source": [
    "from pathlib import Path\n",
    "\n",
    "import pandas as pd\n",
    "import numpy as np\n",
    "import matplotlib as mpl\n",
    "import matplotlib.pyplot as plt\n",
    "import seaborn as sns"
   ]
  },
  {
   "cell_type": "markdown",
   "metadata": {},
   "source": [
    "# CIFAR4 experiments"
   ]
  },
  {
   "cell_type": "code",
   "execution_count": 72,
   "metadata": {},
   "outputs": [
    {
     "name": "stdout",
     "output_type": "stream",
     "text": [
      "experiments_cifar4\\exp0\\Logs\\Message Logs\n",
      "                         time send_or_recv  \\\n",
      "0  2023-07-13 10:12:36.668717      RECEIVE   \n",
      "1  2023-07-13 10:12:36.698789      RECEIVE   \n",
      "2  2023-07-13 10:12:36.728860      RECEIVE   \n",
      "3  2023-07-13 10:12:36.738892      RECEIVE   \n",
      "4  2023-07-13 10:12:36.738892         SEND   \n",
      "\n",
      "                                     id               communicating_agent  \n",
      "0  9e35d64f-1a57-42ed-829b-dcb9aba6b1c3  1@gtirouter.dsic.upv.es/Ajx_4k3T  \n",
      "1  9e35d64f-1a57-42ed-829b-dcb9aba6b1c3  1@gtirouter.dsic.upv.es/Ajx_4k3T  \n",
      "2  9e35d64f-1a57-42ed-829b-dcb9aba6b1c3  1@gtirouter.dsic.upv.es/Ajx_4k3T  \n",
      "3  9e35d64f-1a57-42ed-829b-dcb9aba6b1c3  1@gtirouter.dsic.upv.es/Ajx_4k3T  \n",
      "4  9e35d64f-1a57-42ed-829b-dcb9aba6b1c3  1@gtirouter.dsic.upv.es/Ajx_4k3T  \n"
     ]
    }
   ],
   "source": [
    "num_agents = 6\n",
    "num_experiments = 12\n",
    "experiment_folder_prefix = \"exp\"\n",
    "experiments_parent_folder_name = \"experiments_cifar4\"\n",
    "default_palette = sns.color_palette(\"tab10\")\n",
    "coalition_palette = sns.color_palette(\"Reds\", num_agents // 2) + sns.color_palette(\"Blues\", num_agents // 2)\n",
    "coal0_palette = sns.color_palette(\"Reds\", 2) + sns.color_palette(\"Blues\", 3)\n",
    "coal1_palette = sns.color_palette(\"Reds\", 3) + sns.color_palette(\"Blues\", 2)\n",
    "\n",
    "name_map = {\n",
    "    \"Epsilon Logs\": \"epsilon\",\n",
    "    \"Message Logs\": \"message\",\n",
    "    \"Training Logs\": \"training\",\n",
    "    \"Training Time Logs\": \"time\",\n",
    "    \"Weight Logs\": \"weight\"\n",
    "}\n",
    "\n",
    "exp_description = {\n",
    "    0: \"0.8 cifar4 mlp 5000 5000 0 0 . 500 500 500 500\",\n",
    "    1: \"-1 acol cifar4 mlp 2500 2500 2500 2500 . 500 500 500 500\",\n",
    "    2: \"-1 acol cifar4 CNN 2500 2500 2500 2500 . 500 500 500 500\",\n",
    "    3: \"0.8 acoal cifar4 mlp cambiando el test a 1000 muestras de la clase de train\",\n",
    "    4: \"0.8 acoal cifar4 mlp cambiando el test a 1000 muestras de la clase de train (300 epochs)\",\n",
    "    5: \"-1 acol cifar4 mlp cambiando el test a 1000 muestras de la clase de train (300 epochs)\",\n",
    "\n",
    "    6: \"-1 acol cifar4 mlp 5000 5000 0 0 . 1000 1000 0 0 (500 epochs)\",\n",
    "    7: \"0.6 acoal cifar4 mlp 5000 5000 0 0 . 1000 1000 0 0 (500 epochs)\",\n",
    "    8: \"0.8 acoal cifar4 mlp 5000 5000 0 0 . 1000 1000 0 0 (500 epochs)\",\n",
    "    9: \"0.9 acoal cifar4 mlp 5000 5000 0 0 . 1000 1000 0 0 (500 epochs)\",\n",
    "    10: \"-1 acol cifar4 mlp 2500 2500 2500 2500 . 500 500 500 500 (500 epochs)\",\n",
    "    11: \"0.6 acoal cifar4 mlp 5000 5000 0 0 . 1000 1000 0 0 (500 epochs)\"\n",
    "}\n",
    "\n",
    "exp_prob = {\n",
    "    0: 0.8,\n",
    "    1: -1,\n",
    "    2: -1,\n",
    "    3: 0.8,\n",
    "    4: 0.8,\n",
    "    5: -1,\n",
    "\n",
    "    6: -1,\n",
    "    7: 0.6,\n",
    "    8: 0.8,\n",
    "    9: 0.9,\n",
    "    10: -1,\n",
    "    11: 0.6,\n",
    "}\n",
    "\n",
    "dfs = {} # Experiment dataframes\n",
    "logs_paths = {}\n",
    "exp_names = [f\"exp{i}\" for i in range(num_experiments)]\n",
    "base = Path(experiments_parent_folder_name)\n",
    "plots_path = base / \"plots\"\n",
    "for exp_name in exp_names:\n",
    "    exp_logs = base / exp_name / \"Logs\"\n",
    "    logs_paths[exp_name] = {}\n",
    "    dfs[exp_name] = {}\n",
    "    for key, value in name_map.items():\n",
    "        logs_paths[exp_name][value] = exp_logs / key\n",
    "        dfs[exp_name][value] = [pd.read_csv(logs_paths[exp_name][value] / f\"{a}.csv\") for a in range(num_agents)]\n",
    "\n",
    "# Example of use\n",
    "print(logs_paths[\"exp0\"][\"message\"])\n",
    "print(dfs[\"exp0\"][\"message\"][0].head())"
   ]
  },
  {
   "cell_type": "markdown",
   "metadata": {},
   "source": [
    "## MNIST experiments"
   ]
  },
  {
   "cell_type": "code",
   "execution_count": 63,
   "metadata": {},
   "outputs": [
    {
     "name": "stdout",
     "output_type": "stream",
     "text": [
      "experiments_mnist\\exp0\\Logs\\Message Logs\n",
      "                         time      send_or_recv  \\\n",
      "0  2023-07-04 12:10:41.580419              SEND   \n",
      "1  2023-07-04 12:10:41.674183  RECEIVE_RESPONSE   \n",
      "2  2023-07-04 12:10:53.261445           RECEIVE   \n",
      "3  2023-07-04 12:10:53.261445     SEND_RESPONSE   \n",
      "4  2023-07-04 12:11:04.005352              SEND   \n",
      "\n",
      "                                     id               communicating_agent  \n",
      "0  e9324469-e167-4ac6-97de-8cd66cd417a7           1@gtirouter.dsic.upv.es  \n",
      "1  e9324469-e167-4ac6-97de-8cd66cd417a7  1@gtirouter.dsic.upv.es/UXlu6gHz  \n",
      "2  9fc33767-ecd7-4d06-901e-ba51cbc3d954  3@gtirouter.dsic.upv.es/K1sFH1tU  \n",
      "3  9fc33767-ecd7-4d06-901e-ba51cbc3d954  3@gtirouter.dsic.upv.es/K1sFH1tU  \n",
      "4  6eb44127-926a-4d3c-a6c4-3274d4b5ec55           1@gtirouter.dsic.upv.es  \n"
     ]
    }
   ],
   "source": [
    "num_agents = 6\n",
    "num_experiments = 4\n",
    "experiment_folder_prefix = \"exp\"\n",
    "experiments_parent_folder_name = \"experiments_mnist\"\n",
    "default_palette = sns.color_palette(\"tab10\")\n",
    "coalition_palette = sns.color_palette(\"Reds\", num_agents // 2) + sns.color_palette(\"Blues\", num_agents // 2)\n",
    "coal0_palette = sns.color_palette(\"Reds\", 2) + sns.color_palette(\"Blues\", 3)\n",
    "coal1_palette = sns.color_palette(\"Reds\", 3) + sns.color_palette(\"Blues\", 2)\n",
    "\n",
    "name_map = {\n",
    "    \"Epsilon Logs\": \"epsilon\",\n",
    "    \"Message Logs\": \"message\",\n",
    "    \"Training Logs\": \"training\",\n",
    "    \"Training Time Logs\": \"time\",\n",
    "    \"Weight Logs\": \"weight\"\n",
    "}\n",
    "\n",
    "exp_description = {\n",
    "    0: \"0.6 acoal\",\n",
    "    1: \"0.8 acoal\",\n",
    "    2: \"0.9 acoal\",\n",
    "    3: \"-1 acol\"\n",
    "}\n",
    "\n",
    "exp_prob = {\n",
    "    0: 0.6,\n",
    "    1: 0.8,\n",
    "    2: 0.9,\n",
    "    3: -1\n",
    "}\n",
    "\n",
    "dfs = {} # Experiment dataframes\n",
    "logs_paths = {}\n",
    "exp_names = [f\"exp{i}\" for i in range(num_experiments)]\n",
    "base = Path(experiments_parent_folder_name)\n",
    "plots_path = base / \"plots\"\n",
    "for exp_name in exp_names:\n",
    "    exp_logs = base / exp_name / \"Logs\"\n",
    "    logs_paths[exp_name] = {}\n",
    "    dfs[exp_name] = {}\n",
    "    for key, value in name_map.items():\n",
    "        logs_paths[exp_name][value] = exp_logs / key\n",
    "        dfs[exp_name][value] = [pd.read_csv(logs_paths[exp_name][value] / f\"{a}.csv\") for a in range(num_agents)]\n",
    "\n",
    "# Example of use\n",
    "print(logs_paths[\"exp0\"][\"message\"])\n",
    "print(dfs[\"exp0\"][\"message\"][0].head())"
   ]
  },
  {
   "cell_type": "markdown",
   "metadata": {},
   "source": [
    "# Utility functions"
   ]
  },
  {
   "cell_type": "code",
   "execution_count": 2,
   "metadata": {},
   "outputs": [],
   "source": [
    "def get_coalition_index(agent_id: int):\n",
    "    if agent_id < 3:\n",
    "        return 0\n",
    "    else:\n",
    "        return 1"
   ]
  },
  {
   "cell_type": "code",
   "execution_count": 87,
   "metadata": {},
   "outputs": [],
   "source": [
    "def generate_acc_graph(log_path: Path, palette = None, train: bool = True, max_iterations: int = -1, save_path: Path = None, smoothing_window: int = 0, max_over_time: bool = False, show_graph: bool = False):\n",
    "    # Set the train or test label\n",
    "    label = \"Training\" if train else \"Test\"\n",
    "\n",
    "    # Set the type of graph\n",
    "    type_of_graph = \"training_accuracy\" if train else \"test_accuracy\"\n",
    "\n",
    "    # Initialize an empty DataFrame\n",
    "    df_all = pd.DataFrame()\n",
    "\n",
    "    # Loop over the CSV files\n",
    "    for i in range(num_agents):\n",
    "        # Read the CSV file\n",
    "        csv_path = log_path / f\"{i}.csv\"\n",
    "        df = pd.read_csv(csv_path)\n",
    "        \n",
    "        # Create a new column 'Agent ID' with the agent id\n",
    "        df['Agent ID'] = i\n",
    "        \n",
    "        # Create a new column 'Iterations' as the index\n",
    "        df['Iterations'] = df.index\n",
    "        \n",
    "        # Apply smoothing if the window size is greater than 1\n",
    "        if smoothing_window > 1:\n",
    "            df[type_of_graph] = df[type_of_graph].rolling(window=smoothing_window).mean()\n",
    "        \n",
    "        # Maintain the maximum values over time if max_over_time is True\n",
    "        if max_over_time:\n",
    "            df[type_of_graph] = df[type_of_graph].cummax()\n",
    "        \n",
    "        # Append the DataFrame to df_all\n",
    "        df_all = pd.concat([df_all, df], ignore_index=True)\n",
    "\n",
    "    # Sort the dataframe by 'Agent ID'\n",
    "    df_all['Agent ID'] = df_all['Agent ID'].astype(int)\n",
    "    df_all = df_all.sort_values('Agent ID')\n",
    "\n",
    "    # Filter the data to the maximum number of iterations\n",
    "    if max_iterations > 0:\n",
    "        df_all = df_all[df_all['Iterations'] <= max_iterations]\n",
    "\n",
    "    # Generate the line plot\n",
    "    plt.figure(figsize=(8, 6))\n",
    "    sns.lineplot(x='Iterations', y=type_of_graph, hue='Agent ID', data=df_all, palette=palette)\n",
    "    plt.xlabel('Iterations')\n",
    "    plt.ylabel(f'{label} Accuracy (%)')\n",
    "    plt.title(f'{label} Accuracy Over Iterations')\n",
    "    plt.legend(title='Agent ID', title_fontsize='13', fontsize='11')\n",
    "    plt.ylim([48, 69])\n",
    "    if save_path is not None:\n",
    "        plt.savefig(save_path, dpi=300)\n",
    "    if show_graph:\n",
    "        plt.show()\n",
    "    plt.close('all')\n"
   ]
  },
  {
   "cell_type": "code",
   "execution_count": 62,
   "metadata": {},
   "outputs": [],
   "source": [
    "def generate_cummulative_message_graph(csv_path: Path, palette = None, save_path: Path = None, show_graph: bool = False):\n",
    "    df = pd.read_csv(csv_path)\n",
    "\n",
    "    # Convert the 'time' column to datetime\n",
    "    df['time'] = pd.to_datetime(df['time'])\n",
    "\n",
    "    # Filter out the 'RECEIVE' messages\n",
    "    df = df[df['send_or_recv'] == 'SEND']\n",
    "\n",
    "    # Extract the 'agent_id' from the 'communicating_agent' column\n",
    "    df['Agent ID'] = df['communicating_agent'].apply(lambda x: x.split('@')[0])\n",
    "\n",
    "    # Group by 'time' and 'Agent ID', and count the number of messages\n",
    "    df_grouped = df.groupby(['time', 'Agent ID']).size().reset_index(name='num_messages')\n",
    "\n",
    "    # Calculate the cumulative sum of 'num_messages' for each 'Agent ID'\n",
    "    df_grouped['cumulative_messages'] = df_grouped.groupby('Agent ID')['num_messages'].cumsum()\n",
    "\n",
    "    # Calculate the relative time in seconds\n",
    "    df_grouped['Time (s)'] = (df_grouped['time'] - df_grouped['time'].min()).dt.total_seconds()\n",
    "\n",
    "    # Extend the 'time' range to the maximum time for all agents\n",
    "    max_time = df_grouped['time'].max()\n",
    "    unique_agents = df_grouped['Agent ID'].unique()\n",
    "\n",
    "    # Ensure that each agent has a record at the maximum time\n",
    "    for agent in unique_agents:\n",
    "        if max_time not in df_grouped[df_grouped['Agent ID'] == agent]['time'].values:\n",
    "            last_cumulative_messages = df_grouped[df_grouped['Agent ID'] == agent]['cumulative_messages'].values[-1]\n",
    "            df_to_append = pd.DataFrame({'time': [max_time], 'Agent ID': [agent], 'num_messages': [0], 'cumulative_messages': [last_cumulative_messages], 'Time (s)': [(max_time - df_grouped['time'].min()).total_seconds()]})\n",
    "            df_grouped = pd.concat([df_grouped, df_to_append], ignore_index=True)\n",
    "\n",
    "    # Sort the dataframe by 'Agent ID'\n",
    "    df_grouped['Agent ID'] = df_grouped['Agent ID'].astype(int)\n",
    "    df_grouped = df_grouped.sort_values('Agent ID')\n",
    "\n",
    "    # Set the default palette\n",
    "    if palette is None:\n",
    "        palette = sns.color_palette(\"Reds\", 2) + sns.color_palette(\"Blues\", 3)\n",
    "\n",
    "    # Generate the line plot\n",
    "    plt.figure(figsize=(8, 6))\n",
    "    sns.lineplot(x='Time (s)', y='cumulative_messages', hue='Agent ID', data=df_grouped, palette=palette)\n",
    "    plt.xlabel('Time (s)')\n",
    "    plt.ylabel('Number of Messages')\n",
    "    plt.title('Accumulated Number of Send Messages Over Time')\n",
    "    plt.legend(title='Agent ID', title_fontsize='13', fontsize='11')\n",
    "    if save_path is not None:\n",
    "        plt.savefig(save_path, dpi=300)\n",
    "    if show_graph:\n",
    "        plt.show()\n",
    "    plt.close('all')"
   ]
  },
  {
   "cell_type": "markdown",
   "metadata": {},
   "source": [
    "# Plot results"
   ]
  },
  {
   "cell_type": "markdown",
   "metadata": {},
   "source": [
    "## CIFAR4 Messages"
   ]
  },
  {
   "cell_type": "code",
   "execution_count": 60,
   "metadata": {},
   "outputs": [
    {
     "name": "stdout",
     "output_type": "stream",
     "text": [
      "Experiment ID 0: 0.8 cifar4 mlp 5000 5000 0 0 . 500 500 500 500\n",
      "Experiment ID 1: -1 acol cifar4 mlp 2500 2500 2500 2500 . 500 500 500 500\n",
      "Experiment ID 2: -1 acol cifar4 CNN 2500 2500 2500 2500 . 500 500 500 500\n",
      "Experiment ID 3: 0.8 acoal cifar4 mlp cambiando el test a 1000 muestras de la clase de train\n",
      "Experiment ID 4: 0.8 acoal cifar4 mlp cambiando el test a 1000 muestras de la clase de train (300 epochs)\n",
      "Experiment ID 5: -1 acol cifar4 mlp cambiando el test a 1000 muestras de la clase de train (300 epochs)\n",
      "Experiment ID 6: -1 acol cifar4 mlp 5000 5000 0 0 . 1000 1000 0 0 (500 epochs)\n",
      "Experiment ID 7: 0.6 acoal cifar4 mlp 5000 5000 0 0 . 1000 1000 0 0 (500 epochs)\n",
      "Experiment ID 8: 0.8 acoal cifar4 mlp 5000 5000 0 0 . 1000 1000 0 0 (500 epochs)\n",
      "Experiment ID 9: 0.9 acoal cifar4 mlp 5000 5000 0 0 . 1000 1000 0 0 (500 epochs)\n",
      "Experiment ID 10: -1 acol cifar4 mlp 2500 2500 2500 2500 . 500 500 500 500 (500 epochs)\n",
      "Experiment ID 11: 0.6 acoal cifar4 mlp 5000 5000 0 0 . 1000 1000 0 0 (500 epochs)\n"
     ]
    }
   ],
   "source": [
    "for exp_id in range(num_experiments):\n",
    "    print(f\"Experiment ID {exp_id}: {exp_description[exp_id]}\")\n",
    "    for agent_id in range(num_agents):\n",
    "        coalition_idx = get_coalition_index(agent_id)\n",
    "        palette = coal0_palette if coalition_idx == 0 else coal1_palette\n",
    "        save_path = plots_path / \"msg\" / f\"msg_exp{exp_id}\"\n",
    "        save_path.mkdir(parents=True, exist_ok=True)\n",
    "        save_path = save_path / f\"agent_{agent_id}.png\"\n",
    "        generate_cummulative_message_graph(logs_paths[f\"exp{exp_id}\"][\"message\"] / f\"{agent_id}.csv\", palette, save_path=save_path)"
   ]
  },
  {
   "cell_type": "markdown",
   "metadata": {},
   "source": [
    "## CIFAR4 Accuracy"
   ]
  },
  {
   "cell_type": "markdown",
   "metadata": {},
   "source": [
    "### Train"
   ]
  },
  {
   "cell_type": "code",
   "execution_count": 28,
   "metadata": {},
   "outputs": [
    {
     "name": "stdout",
     "output_type": "stream",
     "text": [
      "Experiment ID 0: 0.8 cifar4 mlp 5000 5000 0 0 . 500 500 500 500\n",
      "Experiment ID 1: -1 acol cifar4 mlp 2500 2500 2500 2500 . 500 500 500 500\n"
     ]
    },
    {
     "name": "stderr",
     "output_type": "stream",
     "text": [
      "C:\\Users\\Fran\\AppData\\Local\\Temp\\ipykernel_27836\\4281064001.py:44: UserWarning: The palette list has more values (10) than needed (6), which may not be intended.\n",
      "  sns.lineplot(x='Iterations', y=type_of_graph, hue='Agent ID', data=df_all, palette=palette)\n"
     ]
    },
    {
     "name": "stdout",
     "output_type": "stream",
     "text": [
      "Experiment ID 2: -1 acol cifar4 CNN 2500 2500 2500 2500 . 500 500 500 500\n"
     ]
    },
    {
     "name": "stderr",
     "output_type": "stream",
     "text": [
      "C:\\Users\\Fran\\AppData\\Local\\Temp\\ipykernel_27836\\4281064001.py:44: UserWarning: The palette list has more values (10) than needed (6), which may not be intended.\n",
      "  sns.lineplot(x='Iterations', y=type_of_graph, hue='Agent ID', data=df_all, palette=palette)\n"
     ]
    },
    {
     "name": "stdout",
     "output_type": "stream",
     "text": [
      "Experiment ID 3: 0.8 acoal cifar4 mlp cambiando el test a 1000 muestras de la clase de train\n",
      "Experiment ID 4: 0.8 acoal cifar4 mlp cambiando el test a 1000 muestras de la clase de train (300 epochs)\n",
      "Experiment ID 5: -1 acol cifar4 mlp cambiando el test a 1000 muestras de la clase de train (300 epochs)\n"
     ]
    },
    {
     "name": "stderr",
     "output_type": "stream",
     "text": [
      "C:\\Users\\Fran\\AppData\\Local\\Temp\\ipykernel_27836\\4281064001.py:44: UserWarning: The palette list has more values (10) than needed (6), which may not be intended.\n",
      "  sns.lineplot(x='Iterations', y=type_of_graph, hue='Agent ID', data=df_all, palette=palette)\n"
     ]
    },
    {
     "name": "stdout",
     "output_type": "stream",
     "text": [
      "Experiment ID 6: -1 acol cifar4 mlp 5000 5000 0 0 . 1000 1000 0 0 (500 epochs)\n"
     ]
    },
    {
     "name": "stderr",
     "output_type": "stream",
     "text": [
      "C:\\Users\\Fran\\AppData\\Local\\Temp\\ipykernel_27836\\4281064001.py:44: UserWarning: The palette list has more values (10) than needed (6), which may not be intended.\n",
      "  sns.lineplot(x='Iterations', y=type_of_graph, hue='Agent ID', data=df_all, palette=palette)\n"
     ]
    },
    {
     "name": "stdout",
     "output_type": "stream",
     "text": [
      "Experiment ID 7: 0.6 acoal cifar4 mlp 5000 5000 0 0 . 1000 1000 0 0 (500 epochs)\n",
      "Experiment ID 8: 0.8 acoal cifar4 mlp 5000 5000 0 0 . 1000 1000 0 0 (500 epochs)\n",
      "Experiment ID 9: 0.9 acoal cifar4 mlp 5000 5000 0 0 . 1000 1000 0 0 (500 epochs)\n",
      "Experiment ID 10: -1 acol cifar4 mlp 2500 2500 2500 2500 . 500 500 500 500 (500 epochs)\n"
     ]
    },
    {
     "name": "stderr",
     "output_type": "stream",
     "text": [
      "C:\\Users\\Fran\\AppData\\Local\\Temp\\ipykernel_27836\\4281064001.py:44: UserWarning: The palette list has more values (10) than needed (6), which may not be intended.\n",
      "  sns.lineplot(x='Iterations', y=type_of_graph, hue='Agent ID', data=df_all, palette=palette)\n"
     ]
    },
    {
     "name": "stdout",
     "output_type": "stream",
     "text": [
      "Experiment ID 11: 0.6 acoal cifar4 mlp 5000 5000 0 0 . 1000 1000 0 0 (500 epochs)\n"
     ]
    }
   ],
   "source": [
    "for exp_id in range(num_experiments):\n",
    "    print(f\"Experiment ID {exp_id}: {exp_description[exp_id]}\")\n",
    "    save_path = plots_path / \"acc_train\"\n",
    "    save_path.mkdir(parents=True, exist_ok=True)\n",
    "    save_path = save_path / f\"exp{exp_id}.png\"\n",
    "    palette = default_palette if exp_prob[exp_id] == -1 else coalition_palette\n",
    "    generate_acc_graph(logs_paths[f\"exp{exp_id}\"][\"training\"], palette, train=True, save_path=save_path)"
   ]
  },
  {
   "cell_type": "code",
   "execution_count": 29,
   "metadata": {},
   "outputs": [
    {
     "name": "stdout",
     "output_type": "stream",
     "text": [
      "Experiment ID 0: 0.8 cifar4 mlp 5000 5000 0 0 . 500 500 500 500\n",
      "Experiment ID 1: -1 acol cifar4 mlp 2500 2500 2500 2500 . 500 500 500 500\n"
     ]
    },
    {
     "name": "stderr",
     "output_type": "stream",
     "text": [
      "C:\\Users\\Fran\\AppData\\Local\\Temp\\ipykernel_27836\\4281064001.py:44: UserWarning: The palette list has more values (10) than needed (6), which may not be intended.\n",
      "  sns.lineplot(x='Iterations', y=type_of_graph, hue='Agent ID', data=df_all, palette=palette)\n"
     ]
    },
    {
     "name": "stdout",
     "output_type": "stream",
     "text": [
      "Experiment ID 2: -1 acol cifar4 CNN 2500 2500 2500 2500 . 500 500 500 500\n"
     ]
    },
    {
     "name": "stderr",
     "output_type": "stream",
     "text": [
      "C:\\Users\\Fran\\AppData\\Local\\Temp\\ipykernel_27836\\4281064001.py:44: UserWarning: The palette list has more values (10) than needed (6), which may not be intended.\n",
      "  sns.lineplot(x='Iterations', y=type_of_graph, hue='Agent ID', data=df_all, palette=palette)\n"
     ]
    },
    {
     "name": "stdout",
     "output_type": "stream",
     "text": [
      "Experiment ID 3: 0.8 acoal cifar4 mlp cambiando el test a 1000 muestras de la clase de train\n",
      "Experiment ID 4: 0.8 acoal cifar4 mlp cambiando el test a 1000 muestras de la clase de train (300 epochs)\n",
      "Experiment ID 5: -1 acol cifar4 mlp cambiando el test a 1000 muestras de la clase de train (300 epochs)\n"
     ]
    },
    {
     "name": "stderr",
     "output_type": "stream",
     "text": [
      "C:\\Users\\Fran\\AppData\\Local\\Temp\\ipykernel_27836\\4281064001.py:44: UserWarning: The palette list has more values (10) than needed (6), which may not be intended.\n",
      "  sns.lineplot(x='Iterations', y=type_of_graph, hue='Agent ID', data=df_all, palette=palette)\n"
     ]
    },
    {
     "name": "stdout",
     "output_type": "stream",
     "text": [
      "Experiment ID 6: -1 acol cifar4 mlp 5000 5000 0 0 . 1000 1000 0 0 (500 epochs)\n"
     ]
    },
    {
     "name": "stderr",
     "output_type": "stream",
     "text": [
      "C:\\Users\\Fran\\AppData\\Local\\Temp\\ipykernel_27836\\4281064001.py:44: UserWarning: The palette list has more values (10) than needed (6), which may not be intended.\n",
      "  sns.lineplot(x='Iterations', y=type_of_graph, hue='Agent ID', data=df_all, palette=palette)\n"
     ]
    },
    {
     "name": "stdout",
     "output_type": "stream",
     "text": [
      "Experiment ID 7: 0.6 acoal cifar4 mlp 5000 5000 0 0 . 1000 1000 0 0 (500 epochs)\n",
      "Experiment ID 8: 0.8 acoal cifar4 mlp 5000 5000 0 0 . 1000 1000 0 0 (500 epochs)\n",
      "Experiment ID 9: 0.9 acoal cifar4 mlp 5000 5000 0 0 . 1000 1000 0 0 (500 epochs)\n",
      "Experiment ID 10: -1 acol cifar4 mlp 2500 2500 2500 2500 . 500 500 500 500 (500 epochs)\n"
     ]
    },
    {
     "name": "stderr",
     "output_type": "stream",
     "text": [
      "C:\\Users\\Fran\\AppData\\Local\\Temp\\ipykernel_27836\\4281064001.py:44: UserWarning: The palette list has more values (10) than needed (6), which may not be intended.\n",
      "  sns.lineplot(x='Iterations', y=type_of_graph, hue='Agent ID', data=df_all, palette=palette)\n"
     ]
    },
    {
     "name": "stdout",
     "output_type": "stream",
     "text": [
      "Experiment ID 11: 0.6 acoal cifar4 mlp 5000 5000 0 0 . 1000 1000 0 0 (500 epochs)\n"
     ]
    }
   ],
   "source": [
    "for exp_id in range(num_experiments):\n",
    "    print(f\"Experiment ID {exp_id}: {exp_description[exp_id]}\")\n",
    "    save_path = plots_path / \"acc_train_smooth\"\n",
    "    save_path.mkdir(parents=True, exist_ok=True)\n",
    "    save_path = save_path / f\"exp{exp_id}.png\"\n",
    "    palette = default_palette if exp_prob[exp_id] == -1 else coalition_palette\n",
    "    generate_acc_graph(logs_paths[f\"exp{exp_id}\"][\"training\"], palette, train=True, save_path=save_path, smoothing_window=30)"
   ]
  },
  {
   "cell_type": "code",
   "execution_count": 30,
   "metadata": {},
   "outputs": [
    {
     "name": "stdout",
     "output_type": "stream",
     "text": [
      "Experiment ID 0: 0.8 cifar4 mlp 5000 5000 0 0 . 500 500 500 500\n",
      "Experiment ID 1: -1 acol cifar4 mlp 2500 2500 2500 2500 . 500 500 500 500\n"
     ]
    },
    {
     "name": "stderr",
     "output_type": "stream",
     "text": [
      "C:\\Users\\Fran\\AppData\\Local\\Temp\\ipykernel_27836\\4281064001.py:44: UserWarning: The palette list has more values (10) than needed (6), which may not be intended.\n",
      "  sns.lineplot(x='Iterations', y=type_of_graph, hue='Agent ID', data=df_all, palette=palette)\n"
     ]
    },
    {
     "name": "stdout",
     "output_type": "stream",
     "text": [
      "Experiment ID 2: -1 acol cifar4 CNN 2500 2500 2500 2500 . 500 500 500 500\n"
     ]
    },
    {
     "name": "stderr",
     "output_type": "stream",
     "text": [
      "C:\\Users\\Fran\\AppData\\Local\\Temp\\ipykernel_27836\\4281064001.py:44: UserWarning: The palette list has more values (10) than needed (6), which may not be intended.\n",
      "  sns.lineplot(x='Iterations', y=type_of_graph, hue='Agent ID', data=df_all, palette=palette)\n"
     ]
    },
    {
     "name": "stdout",
     "output_type": "stream",
     "text": [
      "Experiment ID 3: 0.8 acoal cifar4 mlp cambiando el test a 1000 muestras de la clase de train\n",
      "Experiment ID 4: 0.8 acoal cifar4 mlp cambiando el test a 1000 muestras de la clase de train (300 epochs)\n",
      "Experiment ID 5: -1 acol cifar4 mlp cambiando el test a 1000 muestras de la clase de train (300 epochs)\n"
     ]
    },
    {
     "name": "stderr",
     "output_type": "stream",
     "text": [
      "C:\\Users\\Fran\\AppData\\Local\\Temp\\ipykernel_27836\\4281064001.py:44: UserWarning: The palette list has more values (10) than needed (6), which may not be intended.\n",
      "  sns.lineplot(x='Iterations', y=type_of_graph, hue='Agent ID', data=df_all, palette=palette)\n"
     ]
    },
    {
     "name": "stdout",
     "output_type": "stream",
     "text": [
      "Experiment ID 6: -1 acol cifar4 mlp 5000 5000 0 0 . 1000 1000 0 0 (500 epochs)\n"
     ]
    },
    {
     "name": "stderr",
     "output_type": "stream",
     "text": [
      "C:\\Users\\Fran\\AppData\\Local\\Temp\\ipykernel_27836\\4281064001.py:44: UserWarning: The palette list has more values (10) than needed (6), which may not be intended.\n",
      "  sns.lineplot(x='Iterations', y=type_of_graph, hue='Agent ID', data=df_all, palette=palette)\n"
     ]
    },
    {
     "name": "stdout",
     "output_type": "stream",
     "text": [
      "Experiment ID 7: 0.6 acoal cifar4 mlp 5000 5000 0 0 . 1000 1000 0 0 (500 epochs)\n",
      "Experiment ID 8: 0.8 acoal cifar4 mlp 5000 5000 0 0 . 1000 1000 0 0 (500 epochs)\n",
      "Experiment ID 9: 0.9 acoal cifar4 mlp 5000 5000 0 0 . 1000 1000 0 0 (500 epochs)\n",
      "Experiment ID 10: -1 acol cifar4 mlp 2500 2500 2500 2500 . 500 500 500 500 (500 epochs)\n"
     ]
    },
    {
     "name": "stderr",
     "output_type": "stream",
     "text": [
      "C:\\Users\\Fran\\AppData\\Local\\Temp\\ipykernel_27836\\4281064001.py:44: UserWarning: The palette list has more values (10) than needed (6), which may not be intended.\n",
      "  sns.lineplot(x='Iterations', y=type_of_graph, hue='Agent ID', data=df_all, palette=palette)\n"
     ]
    },
    {
     "name": "stdout",
     "output_type": "stream",
     "text": [
      "Experiment ID 11: 0.6 acoal cifar4 mlp 5000 5000 0 0 . 1000 1000 0 0 (500 epochs)\n"
     ]
    }
   ],
   "source": [
    "for exp_id in range(num_experiments):\n",
    "    print(f\"Experiment ID {exp_id}: {exp_description[exp_id]}\")\n",
    "    save_path = plots_path / \"acc_train_max\"\n",
    "    save_path.mkdir(parents=True, exist_ok=True)\n",
    "    save_path = save_path / f\"exp{exp_id}.png\"\n",
    "    palette = default_palette if exp_prob[exp_id] == -1 else coalition_palette\n",
    "    generate_acc_graph(logs_paths[f\"exp{exp_id}\"][\"training\"], palette, train=True, save_path=save_path, max_over_time=True)"
   ]
  },
  {
   "cell_type": "markdown",
   "metadata": {},
   "source": [
    "### Test"
   ]
  },
  {
   "cell_type": "code",
   "execution_count": 77,
   "metadata": {},
   "outputs": [
    {
     "name": "stdout",
     "output_type": "stream",
     "text": [
      "Experiment ID 0: 0.8 cifar4 mlp 5000 5000 0 0 . 500 500 500 500\n",
      "Experiment ID 1: -1 acol cifar4 mlp 2500 2500 2500 2500 . 500 500 500 500\n"
     ]
    },
    {
     "name": "stderr",
     "output_type": "stream",
     "text": [
      "C:\\Users\\Fran\\AppData\\Local\\Temp\\ipykernel_27836\\1922380697.py:44: UserWarning: The palette list has more values (10) than needed (6), which may not be intended.\n",
      "  sns.lineplot(x='Iterations', y=type_of_graph, hue='Agent ID', data=df_all, palette=palette)\n"
     ]
    },
    {
     "name": "stdout",
     "output_type": "stream",
     "text": [
      "Experiment ID 2: -1 acol cifar4 CNN 2500 2500 2500 2500 . 500 500 500 500\n"
     ]
    },
    {
     "name": "stderr",
     "output_type": "stream",
     "text": [
      "C:\\Users\\Fran\\AppData\\Local\\Temp\\ipykernel_27836\\1922380697.py:44: UserWarning: The palette list has more values (10) than needed (6), which may not be intended.\n",
      "  sns.lineplot(x='Iterations', y=type_of_graph, hue='Agent ID', data=df_all, palette=palette)\n"
     ]
    },
    {
     "name": "stdout",
     "output_type": "stream",
     "text": [
      "Experiment ID 3: 0.8 acoal cifar4 mlp cambiando el test a 1000 muestras de la clase de train\n",
      "Experiment ID 4: 0.8 acoal cifar4 mlp cambiando el test a 1000 muestras de la clase de train (300 epochs)\n",
      "Experiment ID 5: -1 acol cifar4 mlp cambiando el test a 1000 muestras de la clase de train (300 epochs)\n"
     ]
    },
    {
     "name": "stderr",
     "output_type": "stream",
     "text": [
      "C:\\Users\\Fran\\AppData\\Local\\Temp\\ipykernel_27836\\1922380697.py:44: UserWarning: The palette list has more values (10) than needed (6), which may not be intended.\n",
      "  sns.lineplot(x='Iterations', y=type_of_graph, hue='Agent ID', data=df_all, palette=palette)\n"
     ]
    },
    {
     "name": "stdout",
     "output_type": "stream",
     "text": [
      "Experiment ID 6: -1 acol cifar4 mlp 5000 5000 0 0 . 1000 1000 0 0 (500 epochs)\n"
     ]
    },
    {
     "name": "stderr",
     "output_type": "stream",
     "text": [
      "C:\\Users\\Fran\\AppData\\Local\\Temp\\ipykernel_27836\\1922380697.py:44: UserWarning: The palette list has more values (10) than needed (6), which may not be intended.\n",
      "  sns.lineplot(x='Iterations', y=type_of_graph, hue='Agent ID', data=df_all, palette=palette)\n"
     ]
    },
    {
     "name": "stdout",
     "output_type": "stream",
     "text": [
      "Experiment ID 7: 0.6 acoal cifar4 mlp 5000 5000 0 0 . 1000 1000 0 0 (500 epochs)\n",
      "Experiment ID 8: 0.8 acoal cifar4 mlp 5000 5000 0 0 . 1000 1000 0 0 (500 epochs)\n",
      "Experiment ID 9: 0.9 acoal cifar4 mlp 5000 5000 0 0 . 1000 1000 0 0 (500 epochs)\n",
      "Experiment ID 10: -1 acol cifar4 mlp 2500 2500 2500 2500 . 500 500 500 500 (500 epochs)\n"
     ]
    },
    {
     "name": "stderr",
     "output_type": "stream",
     "text": [
      "C:\\Users\\Fran\\AppData\\Local\\Temp\\ipykernel_27836\\1922380697.py:44: UserWarning: The palette list has more values (10) than needed (6), which may not be intended.\n",
      "  sns.lineplot(x='Iterations', y=type_of_graph, hue='Agent ID', data=df_all, palette=palette)\n"
     ]
    },
    {
     "name": "stdout",
     "output_type": "stream",
     "text": [
      "Experiment ID 11: 0.6 acoal cifar4 mlp 5000 5000 0 0 . 1000 1000 0 0 (500 epochs)\n"
     ]
    }
   ],
   "source": [
    "for exp_id in range(num_experiments):\n",
    "    print(f\"Experiment ID {exp_id}: {exp_description[exp_id]}\")\n",
    "    save_path = plots_path / \"acc_test\"\n",
    "    save_path.mkdir(parents=True, exist_ok=True)\n",
    "    save_path = save_path / f\"exp{exp_id}.png\"\n",
    "    palette = default_palette if exp_prob[exp_id] == -1 else coalition_palette\n",
    "    generate_acc_graph(logs_paths[f\"exp{exp_id}\"][\"training\"], palette, train=False, save_path=save_path)"
   ]
  },
  {
   "cell_type": "code",
   "execution_count": 88,
   "metadata": {},
   "outputs": [
    {
     "name": "stdout",
     "output_type": "stream",
     "text": [
      "Experiment ID 0: 0.8 cifar4 mlp 5000 5000 0 0 . 500 500 500 500\n",
      "Experiment ID 1: -1 acol cifar4 mlp 2500 2500 2500 2500 . 500 500 500 500\n"
     ]
    },
    {
     "name": "stderr",
     "output_type": "stream",
     "text": [
      "C:\\Users\\Fran\\AppData\\Local\\Temp\\ipykernel_27836\\60757580.py:44: UserWarning: The palette list has more values (10) than needed (6), which may not be intended.\n",
      "  sns.lineplot(x='Iterations', y=type_of_graph, hue='Agent ID', data=df_all, palette=palette)\n"
     ]
    },
    {
     "name": "stdout",
     "output_type": "stream",
     "text": [
      "Experiment ID 2: -1 acol cifar4 CNN 2500 2500 2500 2500 . 500 500 500 500\n"
     ]
    },
    {
     "name": "stderr",
     "output_type": "stream",
     "text": [
      "C:\\Users\\Fran\\AppData\\Local\\Temp\\ipykernel_27836\\60757580.py:44: UserWarning: The palette list has more values (10) than needed (6), which may not be intended.\n",
      "  sns.lineplot(x='Iterations', y=type_of_graph, hue='Agent ID', data=df_all, palette=palette)\n"
     ]
    },
    {
     "name": "stdout",
     "output_type": "stream",
     "text": [
      "Experiment ID 3: 0.8 acoal cifar4 mlp cambiando el test a 1000 muestras de la clase de train\n",
      "Experiment ID 4: 0.8 acoal cifar4 mlp cambiando el test a 1000 muestras de la clase de train (300 epochs)\n",
      "Experiment ID 5: -1 acol cifar4 mlp cambiando el test a 1000 muestras de la clase de train (300 epochs)\n"
     ]
    },
    {
     "name": "stderr",
     "output_type": "stream",
     "text": [
      "C:\\Users\\Fran\\AppData\\Local\\Temp\\ipykernel_27836\\60757580.py:44: UserWarning: The palette list has more values (10) than needed (6), which may not be intended.\n",
      "  sns.lineplot(x='Iterations', y=type_of_graph, hue='Agent ID', data=df_all, palette=palette)\n"
     ]
    },
    {
     "name": "stdout",
     "output_type": "stream",
     "text": [
      "Experiment ID 6: -1 acol cifar4 mlp 5000 5000 0 0 . 1000 1000 0 0 (500 epochs)\n"
     ]
    },
    {
     "name": "stderr",
     "output_type": "stream",
     "text": [
      "C:\\Users\\Fran\\AppData\\Local\\Temp\\ipykernel_27836\\60757580.py:44: UserWarning: The palette list has more values (10) than needed (6), which may not be intended.\n",
      "  sns.lineplot(x='Iterations', y=type_of_graph, hue='Agent ID', data=df_all, palette=palette)\n"
     ]
    },
    {
     "name": "stdout",
     "output_type": "stream",
     "text": [
      "Experiment ID 7: 0.6 acoal cifar4 mlp 5000 5000 0 0 . 1000 1000 0 0 (500 epochs)\n",
      "Experiment ID 8: 0.8 acoal cifar4 mlp 5000 5000 0 0 . 1000 1000 0 0 (500 epochs)\n",
      "Experiment ID 9: 0.9 acoal cifar4 mlp 5000 5000 0 0 . 1000 1000 0 0 (500 epochs)\n",
      "Experiment ID 10: -1 acol cifar4 mlp 2500 2500 2500 2500 . 500 500 500 500 (500 epochs)\n"
     ]
    },
    {
     "name": "stderr",
     "output_type": "stream",
     "text": [
      "C:\\Users\\Fran\\AppData\\Local\\Temp\\ipykernel_27836\\60757580.py:44: UserWarning: The palette list has more values (10) than needed (6), which may not be intended.\n",
      "  sns.lineplot(x='Iterations', y=type_of_graph, hue='Agent ID', data=df_all, palette=palette)\n"
     ]
    },
    {
     "name": "stdout",
     "output_type": "stream",
     "text": [
      "Experiment ID 11: 0.6 acoal cifar4 mlp 5000 5000 0 0 . 1000 1000 0 0 (500 epochs)\n"
     ]
    }
   ],
   "source": [
    "for exp_id in range(num_experiments):\n",
    "    print(f\"Experiment ID {exp_id}: {exp_description[exp_id]}\")\n",
    "    save_path = plots_path / \"acc_test_smooth\"\n",
    "    save_path.mkdir(parents=True, exist_ok=True)\n",
    "    save_path = save_path / f\"exp{exp_id}.png\"\n",
    "    palette = default_palette if exp_prob[exp_id] == -1 else coalition_palette\n",
    "    generate_acc_graph(logs_paths[f\"exp{exp_id}\"][\"training\"], palette, train=False, save_path=save_path, smoothing_window=30, max_iterations=500)"
   ]
  },
  {
   "cell_type": "code",
   "execution_count": 33,
   "metadata": {},
   "outputs": [
    {
     "name": "stdout",
     "output_type": "stream",
     "text": [
      "Experiment ID 0: 0.8 cifar4 mlp 5000 5000 0 0 . 500 500 500 500\n",
      "Experiment ID 1: -1 acol cifar4 mlp 2500 2500 2500 2500 . 500 500 500 500\n"
     ]
    },
    {
     "name": "stderr",
     "output_type": "stream",
     "text": [
      "C:\\Users\\Fran\\AppData\\Local\\Temp\\ipykernel_27836\\4281064001.py:44: UserWarning: The palette list has more values (10) than needed (6), which may not be intended.\n",
      "  sns.lineplot(x='Iterations', y=type_of_graph, hue='Agent ID', data=df_all, palette=palette)\n"
     ]
    },
    {
     "name": "stdout",
     "output_type": "stream",
     "text": [
      "Experiment ID 2: -1 acol cifar4 CNN 2500 2500 2500 2500 . 500 500 500 500\n"
     ]
    },
    {
     "name": "stderr",
     "output_type": "stream",
     "text": [
      "C:\\Users\\Fran\\AppData\\Local\\Temp\\ipykernel_27836\\4281064001.py:44: UserWarning: The palette list has more values (10) than needed (6), which may not be intended.\n",
      "  sns.lineplot(x='Iterations', y=type_of_graph, hue='Agent ID', data=df_all, palette=palette)\n"
     ]
    },
    {
     "name": "stdout",
     "output_type": "stream",
     "text": [
      "Experiment ID 3: 0.8 acoal cifar4 mlp cambiando el test a 1000 muestras de la clase de train\n",
      "Experiment ID 4: 0.8 acoal cifar4 mlp cambiando el test a 1000 muestras de la clase de train (300 epochs)\n",
      "Experiment ID 5: -1 acol cifar4 mlp cambiando el test a 1000 muestras de la clase de train (300 epochs)\n"
     ]
    },
    {
     "name": "stderr",
     "output_type": "stream",
     "text": [
      "C:\\Users\\Fran\\AppData\\Local\\Temp\\ipykernel_27836\\4281064001.py:44: UserWarning: The palette list has more values (10) than needed (6), which may not be intended.\n",
      "  sns.lineplot(x='Iterations', y=type_of_graph, hue='Agent ID', data=df_all, palette=palette)\n"
     ]
    },
    {
     "name": "stdout",
     "output_type": "stream",
     "text": [
      "Experiment ID 6: -1 acol cifar4 mlp 5000 5000 0 0 . 1000 1000 0 0 (500 epochs)\n"
     ]
    },
    {
     "name": "stderr",
     "output_type": "stream",
     "text": [
      "C:\\Users\\Fran\\AppData\\Local\\Temp\\ipykernel_27836\\4281064001.py:44: UserWarning: The palette list has more values (10) than needed (6), which may not be intended.\n",
      "  sns.lineplot(x='Iterations', y=type_of_graph, hue='Agent ID', data=df_all, palette=palette)\n"
     ]
    },
    {
     "name": "stdout",
     "output_type": "stream",
     "text": [
      "Experiment ID 7: 0.6 acoal cifar4 mlp 5000 5000 0 0 . 1000 1000 0 0 (500 epochs)\n",
      "Experiment ID 8: 0.8 acoal cifar4 mlp 5000 5000 0 0 . 1000 1000 0 0 (500 epochs)\n",
      "Experiment ID 9: 0.9 acoal cifar4 mlp 5000 5000 0 0 . 1000 1000 0 0 (500 epochs)\n",
      "Experiment ID 10: -1 acol cifar4 mlp 2500 2500 2500 2500 . 500 500 500 500 (500 epochs)\n"
     ]
    },
    {
     "name": "stderr",
     "output_type": "stream",
     "text": [
      "C:\\Users\\Fran\\AppData\\Local\\Temp\\ipykernel_27836\\4281064001.py:44: UserWarning: The palette list has more values (10) than needed (6), which may not be intended.\n",
      "  sns.lineplot(x='Iterations', y=type_of_graph, hue='Agent ID', data=df_all, palette=palette)\n"
     ]
    },
    {
     "name": "stdout",
     "output_type": "stream",
     "text": [
      "Experiment ID 11: 0.6 acoal cifar4 mlp 5000 5000 0 0 . 1000 1000 0 0 (500 epochs)\n"
     ]
    }
   ],
   "source": [
    "for exp_id in range(num_experiments):\n",
    "    print(f\"Experiment ID {exp_id}: {exp_description[exp_id]}\")\n",
    "    save_path = plots_path / \"acc_test_max\"\n",
    "    save_path.mkdir(parents=True, exist_ok=True)\n",
    "    save_path = save_path / f\"exp{exp_id}.png\"\n",
    "    palette = default_palette if exp_prob[exp_id] == -1 else coalition_palette\n",
    "    generate_acc_graph(logs_paths[f\"exp{exp_id}\"][\"training\"], palette, train=False, save_path=save_path, max_over_time=True)"
   ]
  },
  {
   "cell_type": "markdown",
   "metadata": {},
   "source": [
    "## MNIST Messages"
   ]
  },
  {
   "cell_type": "code",
   "execution_count": 56,
   "metadata": {},
   "outputs": [
    {
     "name": "stdout",
     "output_type": "stream",
     "text": [
      "Experiment ID 0: 0.6 acoal\n",
      "Experiment ID 1: 0.8 acoal\n",
      "Experiment ID 2: 0.9 acoal\n",
      "Experiment ID 3: -1 acol\n"
     ]
    }
   ],
   "source": [
    "for exp_id in range(num_experiments):\n",
    "    print(f\"Experiment ID {exp_id}: {exp_description[exp_id]}\")\n",
    "    for agent_id in range(num_agents):\n",
    "        coalition_idx = get_coalition_index(agent_id)\n",
    "        palette = coal0_palette if coalition_idx == 0 else coal1_palette\n",
    "        save_path = plots_path / \"msg\" / f\"msg_exp{exp_id}\"\n",
    "        save_path.mkdir(parents=True, exist_ok=True)\n",
    "        save_path = save_path / f\"agent_{agent_id}.png\"\n",
    "        generate_cummulative_message_graph(logs_paths[f\"exp{exp_id}\"][\"message\"] / f\"{agent_id}.csv\", palette, save_path=save_path)"
   ]
  },
  {
   "cell_type": "markdown",
   "metadata": {},
   "source": [
    "## MNIST Accuracy"
   ]
  },
  {
   "cell_type": "markdown",
   "metadata": {},
   "source": [
    "### Train"
   ]
  },
  {
   "cell_type": "code",
   "execution_count": 42,
   "metadata": {},
   "outputs": [
    {
     "name": "stdout",
     "output_type": "stream",
     "text": [
      "Experiment ID 0: 0.6 acoal\n",
      "Experiment ID 1: 0.8 acoal\n",
      "Experiment ID 2: 0.9 acoal\n",
      "Experiment ID 3: -1 acol\n"
     ]
    },
    {
     "name": "stderr",
     "output_type": "stream",
     "text": [
      "C:\\Users\\Fran\\AppData\\Local\\Temp\\ipykernel_27836\\4281064001.py:44: UserWarning: The palette list has more values (10) than needed (6), which may not be intended.\n",
      "  sns.lineplot(x='Iterations', y=type_of_graph, hue='Agent ID', data=df_all, palette=palette)\n"
     ]
    }
   ],
   "source": [
    "for exp_id in range(num_experiments):\n",
    "    print(f\"Experiment ID {exp_id}: {exp_description[exp_id]}\")\n",
    "    save_path = plots_path / \"acc_train\"\n",
    "    save_path.mkdir(parents=True, exist_ok=True)\n",
    "    save_path = save_path / f\"exp{exp_id}.png\"\n",
    "    palette = default_palette if exp_prob[exp_id] == -1 else coalition_palette\n",
    "    generate_acc_graph(logs_paths[f\"exp{exp_id}\"][\"training\"], palette, train=True, save_path=save_path, max_iterations=100)"
   ]
  },
  {
   "cell_type": "code",
   "execution_count": 43,
   "metadata": {},
   "outputs": [
    {
     "name": "stdout",
     "output_type": "stream",
     "text": [
      "Experiment ID 0: 0.6 acoal\n",
      "Experiment ID 1: 0.8 acoal\n",
      "Experiment ID 2: 0.9 acoal\n",
      "Experiment ID 3: -1 acol\n"
     ]
    },
    {
     "name": "stderr",
     "output_type": "stream",
     "text": [
      "C:\\Users\\Fran\\AppData\\Local\\Temp\\ipykernel_27836\\4281064001.py:44: UserWarning: The palette list has more values (10) than needed (6), which may not be intended.\n",
      "  sns.lineplot(x='Iterations', y=type_of_graph, hue='Agent ID', data=df_all, palette=palette)\n"
     ]
    }
   ],
   "source": [
    "for exp_id in range(num_experiments):\n",
    "    print(f\"Experiment ID {exp_id}: {exp_description[exp_id]}\")\n",
    "    save_path = plots_path / \"acc_train_smooth\"\n",
    "    save_path.mkdir(parents=True, exist_ok=True)\n",
    "    save_path = save_path / f\"exp{exp_id}.png\"\n",
    "    palette = default_palette if exp_prob[exp_id] == -1 else coalition_palette\n",
    "    generate_acc_graph(logs_paths[f\"exp{exp_id}\"][\"training\"], palette, train=True, save_path=save_path, smoothing_window=30, max_iterations=100)"
   ]
  },
  {
   "cell_type": "code",
   "execution_count": 44,
   "metadata": {},
   "outputs": [
    {
     "name": "stdout",
     "output_type": "stream",
     "text": [
      "Experiment ID 0: 0.6 acoal\n",
      "Experiment ID 1: 0.8 acoal\n",
      "Experiment ID 2: 0.9 acoal\n",
      "Experiment ID 3: -1 acol\n"
     ]
    },
    {
     "name": "stderr",
     "output_type": "stream",
     "text": [
      "C:\\Users\\Fran\\AppData\\Local\\Temp\\ipykernel_27836\\4281064001.py:44: UserWarning: The palette list has more values (10) than needed (6), which may not be intended.\n",
      "  sns.lineplot(x='Iterations', y=type_of_graph, hue='Agent ID', data=df_all, palette=palette)\n"
     ]
    }
   ],
   "source": [
    "for exp_id in range(num_experiments):\n",
    "    print(f\"Experiment ID {exp_id}: {exp_description[exp_id]}\")\n",
    "    save_path = plots_path / \"acc_train_max\"\n",
    "    save_path.mkdir(parents=True, exist_ok=True)\n",
    "    save_path = save_path / f\"exp{exp_id}.png\"\n",
    "    palette = default_palette if exp_prob[exp_id] == -1 else coalition_palette\n",
    "    generate_acc_graph(logs_paths[f\"exp{exp_id}\"][\"training\"], palette, train=True, save_path=save_path, max_over_time=True, max_iterations=100)"
   ]
  },
  {
   "cell_type": "markdown",
   "metadata": {},
   "source": [
    "### Test"
   ]
  },
  {
   "cell_type": "code",
   "execution_count": 45,
   "metadata": {},
   "outputs": [
    {
     "name": "stdout",
     "output_type": "stream",
     "text": [
      "Experiment ID 0: 0.6 acoal\n",
      "Experiment ID 1: 0.8 acoal\n",
      "Experiment ID 2: 0.9 acoal\n",
      "Experiment ID 3: -1 acol\n"
     ]
    },
    {
     "name": "stderr",
     "output_type": "stream",
     "text": [
      "C:\\Users\\Fran\\AppData\\Local\\Temp\\ipykernel_27836\\4281064001.py:44: UserWarning: The palette list has more values (10) than needed (6), which may not be intended.\n",
      "  sns.lineplot(x='Iterations', y=type_of_graph, hue='Agent ID', data=df_all, palette=palette)\n"
     ]
    }
   ],
   "source": [
    "for exp_id in range(num_experiments):\n",
    "    print(f\"Experiment ID {exp_id}: {exp_description[exp_id]}\")\n",
    "    save_path = plots_path / \"acc_test\"\n",
    "    save_path.mkdir(parents=True, exist_ok=True)\n",
    "    save_path = save_path / f\"exp{exp_id}.png\"\n",
    "    palette = default_palette if exp_prob[exp_id] == -1 else coalition_palette\n",
    "    generate_acc_graph(logs_paths[f\"exp{exp_id}\"][\"training\"], palette, train=False, save_path=save_path, max_iterations=100)"
   ]
  },
  {
   "cell_type": "code",
   "execution_count": 70,
   "metadata": {},
   "outputs": [
    {
     "name": "stdout",
     "output_type": "stream",
     "text": [
      "Experiment ID 0: 0.6 acoal\n",
      "Experiment ID 1: 0.8 acoal\n",
      "Experiment ID 2: 0.9 acoal\n",
      "Experiment ID 3: -1 acol\n"
     ]
    },
    {
     "name": "stderr",
     "output_type": "stream",
     "text": [
      "C:\\Users\\Fran\\AppData\\Local\\Temp\\ipykernel_27836\\2178545512.py:44: UserWarning: The palette list has more values (10) than needed (6), which may not be intended.\n",
      "  sns.lineplot(x='Iterations', y=type_of_graph, hue='Agent ID', data=df_all, palette=palette)\n"
     ]
    }
   ],
   "source": [
    "for exp_id in range(num_experiments):\n",
    "    print(f\"Experiment ID {exp_id}: {exp_description[exp_id]}\")\n",
    "    save_path = plots_path / \"acc_test_smooth\"\n",
    "    save_path.mkdir(parents=True, exist_ok=True)\n",
    "    save_path = save_path / f\"exp{exp_id}.png\"\n",
    "    palette = default_palette if exp_prob[exp_id] == -1 else coalition_palette\n",
    "    generate_acc_graph(logs_paths[f\"exp{exp_id}\"][\"training\"], palette, train=False, save_path=save_path, smoothing_window=10, max_iterations=100)"
   ]
  },
  {
   "cell_type": "code",
   "execution_count": 66,
   "metadata": {},
   "outputs": [
    {
     "name": "stdout",
     "output_type": "stream",
     "text": [
      "Experiment ID 0: 0.6 acoal\n",
      "Experiment ID 1: 0.8 acoal\n",
      "Experiment ID 2: 0.9 acoal\n",
      "Experiment ID 3: -1 acol\n"
     ]
    },
    {
     "name": "stderr",
     "output_type": "stream",
     "text": [
      "C:\\Users\\Fran\\AppData\\Local\\Temp\\ipykernel_27836\\2178545512.py:44: UserWarning: The palette list has more values (10) than needed (6), which may not be intended.\n",
      "  sns.lineplot(x='Iterations', y=type_of_graph, hue='Agent ID', data=df_all, palette=palette)\n"
     ]
    }
   ],
   "source": [
    "for exp_id in range(num_experiments):\n",
    "    print(f\"Experiment ID {exp_id}: {exp_description[exp_id]}\")\n",
    "    save_path = plots_path / \"acc_test_max\"\n",
    "    save_path.mkdir(parents=True, exist_ok=True)\n",
    "    save_path = save_path / f\"exp{exp_id}.png\"\n",
    "    palette = default_palette if exp_prob[exp_id] == -1 else coalition_palette\n",
    "    generate_acc_graph(logs_paths[f\"exp{exp_id}\"][\"training\"], palette, train=False, save_path=save_path, max_over_time=True, max_iterations=100)"
   ]
  }
 ],
 "metadata": {
  "kernelspec": {
   "display_name": ".venv",
   "language": "python",
   "name": "python3"
  },
  "language_info": {
   "codemirror_mode": {
    "name": "ipython",
    "version": 3
   },
   "file_extension": ".py",
   "mimetype": "text/x-python",
   "name": "python",
   "nbconvert_exporter": "python",
   "pygments_lexer": "ipython3",
   "version": "3.9.13"
  },
  "orig_nbformat": 4
 },
 "nbformat": 4,
 "nbformat_minor": 2
}
